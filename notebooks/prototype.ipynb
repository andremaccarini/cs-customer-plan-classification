{
 "cells": [
  {
   "cell_type": "code",
   "execution_count": 17,
   "id": "7a7359e4",
   "metadata": {},
   "outputs": [],
   "source": [
    "import os \n",
    "import warnings\n",
    "warnings.filterwarnings('ignore')\n",
    "\n",
    "import pandas as pd\n",
    "import numpy as np\n",
    "\n",
    "import matplotlib.pyplot as plt\n",
    "import seaborn as sns\n",
    "\n",
    "from sklearn.model_selection import train_test_split, cross_val_score, RandomizedSearchCV\n",
    "from sklearn.metrics import classification_report, confusion_matrix, roc_auc_score, f1_score, auc, roc_curve, accuracy_score\n",
    "from sklearn.ensemble import RandomForestClassifier\n",
    "from sklearn.linear_model import LogisticRegression\n",
    "from sklearn.svm import SVC\n",
    "\n",
    "\n",
    "import joblib"
   ]
  },
  {
   "cell_type": "code",
   "execution_count": 3,
   "id": "ce02e9f9",
   "metadata": {},
   "outputs": [],
   "source": [
    "data_path = '../data/processed/df_ready.csv'\n",
    "df_prot = pd.read_csv(data_path)"
   ]
  },
  {
   "cell_type": "code",
   "execution_count": 6,
   "id": "ac9d1ca0",
   "metadata": {},
   "outputs": [],
   "source": [
    "X = df_prot.drop('is_ultra', axis=1)\n",
    "y = df_prot['is_ultra']\n",
    "\n",
    "X_train, X_test, y_train, y_test = train_test_split(X,y, stratify=y, test_size=0.25, random_state=42)"
   ]
  },
  {
   "cell_type": "code",
   "execution_count": 10,
   "id": "ca58293e",
   "metadata": {},
   "outputs": [
    {
     "name": "stdout",
     "output_type": "stream",
     "text": [
      "Best Params:  {'n_estimators': 300, 'min_samples_split': 10, 'min_samples_leaf': 1, 'max_depth': 20}\n",
      "F1: 0.6308411214953271\n",
      "AUC-ROC: 0.8121193577527174\n",
      "Accuracy: 0.8034825870646766\n"
     ]
    }
   ],
   "source": [
    "#baseline model\n",
    "\n",
    "param_baseline = {\n",
    "    'n_estimators': [100, 200, 300, 400],\n",
    "    'max_depth': [5, 10, 20, None],\n",
    "    'min_samples_split': [2, 5, 10],\n",
    "    'min_samples_leaf': [1, 2, 4]\n",
    "}\n",
    "\n",
    "rf = RandomForestClassifier(random_state=42)\n",
    "\n",
    "random_base = RandomizedSearchCV(\n",
    "    estimator=rf,\n",
    "    param_distributions=param_baseline,\n",
    "    n_iter=20,\n",
    "    cv=5,\n",
    "    scoring='f1',\n",
    "    n_jobs=-1,\n",
    "    random_state=42\n",
    ")\n",
    "\n",
    "random_base.fit(X_train, y_train)\n",
    "\n",
    "y_pred_base = random_base.predict(X_test)\n",
    "\n",
    "baseline_accuracy = accuracy_score(y_test, y_pred_base)\n",
    "baseline_f1score = f1_score(y_test, y_pred_base)\n",
    "baseline_rocauc =  roc_auc_score(y_test, random_base.predict_proba(X_test)[:, 1])\n",
    "\n",
    "print(\"Best Params: \", random_base.best_params_)\n",
    "print(\"F1:\", baseline_f1score)\n",
    "print(\"AUC-ROC:\",baseline_rocauc)\n",
    "print(\"Accuracy:\",baseline_accuracy)"
   ]
  },
  {
   "cell_type": "code",
   "execution_count": 11,
   "id": "b84012e0",
   "metadata": {},
   "outputs": [
    {
     "name": "stdout",
     "output_type": "stream",
     "text": [
      "Best Params:  {'n_estimators': 100, 'min_samples_split': 2, 'min_samples_leaf': 2, 'max_depth': 5, 'class_weight': 'balanced'}\n",
      "F1: 0.6473214285714286\n",
      "AUC-ROC: 0.8156671620479645\n",
      "Accuracy: 0.8034825870646766\n"
     ]
    }
   ],
   "source": [
    "# class_weight - balanced model\n",
    "\n",
    "param_balanced = {\n",
    "    'n_estimators': [100, 200, 300, 400],\n",
    "    'max_depth': [5, 10, 20, None],\n",
    "    'min_samples_split': [2, 5, 10],\n",
    "    'min_samples_leaf': [1, 2, 4],\n",
    "    'class_weight': ['balanced']\n",
    "}\n",
    "\n",
    "random_balanced = RandomizedSearchCV(\n",
    "    estimator=rf,\n",
    "    param_distributions=param_balanced,\n",
    "    n_iter=20,\n",
    "    cv=5,\n",
    "    scoring='f1',\n",
    "    n_jobs=-1,\n",
    "    random_state=42\n",
    ")\n",
    "\n",
    "random_balanced.fit(X_train, y_train)\n",
    "\n",
    "y_pred_balanced = random_balanced.predict(X_test)\n",
    "\n",
    "balanced_accuracy = accuracy_score(y_test, y_pred_balanced)\n",
    "balanced_f1score = f1_score(y_test, y_pred_balanced)\n",
    "balanced_rocauc =  roc_auc_score(y_test, random_balanced.predict_proba(X_test)[:, 1])\n",
    "\n",
    "print(\"Best Params: \", random_balanced.best_params_)\n",
    "print(\"F1:\", balanced_f1score)\n",
    "print(\"AUC-ROC:\", balanced_rocauc)\n",
    "print(\"Accuracy:\",balanced_accuracy)"
   ]
  },
  {
   "cell_type": "code",
   "execution_count": 13,
   "id": "80717527",
   "metadata": {},
   "outputs": [
    {
     "name": "stdout",
     "output_type": "stream",
     "text": [
      "Best Params: {'solver': 'saga', 'penalty': 'l1', 'l1_ratio': np.float64(0.4444444444444444), 'C': np.float64(1438.44988828766)}\n",
      "F1-score: 0.32786885245901637\n",
      "AUC-ROC: 0.6976789929189615\n"
     ]
    }
   ],
   "source": [
    "#Logistic Regression baseline model\n",
    "\n",
    "lr = LogisticRegression(max_iter=1000, random_state=42)\n",
    "\n",
    "param_dist_lr = {\n",
    "    'penalty': ['l1', 'l2', 'elasticnet', None],\n",
    "    'C': np.logspace(-4, 4, 20),\n",
    "    'solver': ['saga'],\n",
    "    'l1_ratio': np.linspace(0, 1, 10)  # só usado se penalty='elasticnet'\n",
    "}\n",
    "\n",
    "random_search_lr = RandomizedSearchCV(\n",
    "    estimator=lr,\n",
    "    param_distributions=param_dist_lr,\n",
    "    n_iter=30,\n",
    "    cv=5,\n",
    "    scoring='f1',\n",
    "    random_state=42,\n",
    "    n_jobs=-1\n",
    ")\n",
    "\n",
    "random_search_lr.fit(X_train, y_train)\n",
    "\n",
    "best_lr = random_search_lr.best_estimator_\n",
    "\n",
    "y_pred_lr = best_lr.predict(X_test)\n",
    "y_prob_lr = best_lr.predict_proba(X_test)[:, 1]\n",
    "\n",
    "print(\"Best Params:\", random_search_lr.best_params_)\n",
    "print(\"F1-score:\", f1_score(y_test, y_pred_lr))\n",
    "print(\"AUC-ROC:\", roc_auc_score(y_test, y_prob_lr))"
   ]
  },
  {
   "cell_type": "code",
   "execution_count": 14,
   "id": "48b35ce0",
   "metadata": {},
   "outputs": [
    {
     "name": "stdout",
     "output_type": "stream",
     "text": [
      "Best Params: {'penalty': 'l2', 'C': np.float64(0.018329807108324356)}\n",
      "F1 Score: 0.5185185185185185\n",
      "AUC-ROC: 0.6907145146720284\n"
     ]
    }
   ],
   "source": [
    "lr_balanced = LogisticRegression(class_weight='balanced', solver='liblinear', random_state=42)\n",
    "\n",
    "\n",
    "param_lr = {\n",
    "    'C': np.logspace(-3, 3, 20),\n",
    "    'penalty': ['l1', 'l2']\n",
    "}\n",
    "\n",
    "# 3. RandomizedSearchCV\n",
    "lr_search = RandomizedSearchCV(\n",
    "    estimator=lr_balanced,\n",
    "    param_distributions=param_lr,\n",
    "    n_iter=20,\n",
    "    cv=5,\n",
    "    scoring='f1',\n",
    "    random_state=42,\n",
    "    n_jobs=-1\n",
    ")\n",
    "\n",
    "\n",
    "lr_search.fit(X_train, y_train)\n",
    "\n",
    "\n",
    "y_pred_lr_bal = lr_search.predict(X_test)\n",
    "f1_lr_bal = f1_score(y_test, y_pred_lr_bal)\n",
    "roc_auc_lr_bal = roc_auc_score(y_test, lr_search.predict_proba(X_test)[:, 1])\n",
    "\n",
    "\n",
    "print(\"Best Params:\", lr_search.best_params_)\n",
    "print(\"F1 Score:\", f1_lr_bal)\n",
    "print(\"AUC-ROC:\", roc_auc_lr_bal)"
   ]
  },
  {
   "cell_type": "code",
   "execution_count": 15,
   "id": "e095238d",
   "metadata": {},
   "outputs": [
    {
     "name": "stdout",
     "output_type": "stream",
     "text": [
      "Best Params: {'kernel': 'rbf', 'gamma': 'scale', 'C': 10}\n",
      "F1 Score: 0.5968586387434555\n",
      "AUC-ROC: 0.8032607745432294\n"
     ]
    }
   ],
   "source": [
    "#SVC model\n",
    "\n",
    "svc = SVC(probability=True)\n",
    "\n",
    "param_svc = {\n",
    "    'C': [0.1, 1, 10],\n",
    "    'kernel': ['linear', 'rbf', 'poly'],\n",
    "    'gamma': ['scale', 'auto']\n",
    "}\n",
    "\n",
    "# 4. RandomizedSearchCV\n",
    "svc_search = RandomizedSearchCV(\n",
    "    estimator=svc,\n",
    "    param_distributions=param_svc,\n",
    "    n_iter=10,\n",
    "    cv=5,\n",
    "    scoring='f1',\n",
    "    n_jobs=-1,\n",
    "    random_state=42\n",
    ")\n",
    "\n",
    "\n",
    "svc_search.fit(X_train, y_train)\n",
    "\n",
    "\n",
    "y_pred_svc = svc_search.predict(X_test)\n",
    "f1_svc = f1_score(y_test, y_pred_svc)\n",
    "roc_auc_svc = roc_auc_score(y_test, svc_search.predict_proba(X_test)[:, 1])\n",
    "\n",
    "print(\"Best Params:\", svc_search.best_params_)\n",
    "print(\"F1 Score:\", f1_svc)\n",
    "print(\"AUC-ROC:\", roc_auc_svc)"
   ]
  },
  {
   "cell_type": "code",
   "execution_count": 18,
   "id": "4eff1680",
   "metadata": {},
   "outputs": [
    {
     "data": {
      "image/png": "[encoded data removed]",
      "text/plain": [
       "<Figure size 1000x600 with 1 Axes>"
      ]
     },
     "metadata": {},
     "output_type": "display_data"
    }
   ],
   "source": [
    "# rf baseline vs balanced\n",
    "\n",
    "y_prob_base = random_base.predict_proba(X_test)[:, 1]\n",
    "y_prob_balanced = random_balanced.predict_proba(X_test)[:, 1]\n",
    "\n",
    "\n",
    "fpr_base, tpr_base, _ = roc_curve(y_test, y_prob_base)\n",
    "fpr_bal, tpr_bal, _ = roc_curve(y_test, y_prob_balanced)\n",
    "\n",
    "\n",
    "roc_auc_base = auc(fpr_base, tpr_base)\n",
    "roc_auc_bal = auc(fpr_bal, tpr_bal)\n",
    "\n",
    "\n",
    "plt.figure(figsize=(10,6))\n",
    "plt.plot(fpr_base, tpr_base, label='Random Forest Baseline (AUC = {:.3f})'.format(roc_auc_base), linestyle='--')\n",
    "plt.plot(fpr_bal, tpr_bal, label='Random Forest Balanced (AUC = {:.3f})'.format(roc_auc_bal))\n",
    "plt.plot([0,1], [0,1], 'k--')\n",
    "\n",
    "plt.xlabel('False Positive Rate')\n",
    "plt.ylabel('True Positive Rate')\n",
    "plt.title('ROC Curve Comparison')\n",
    "plt.legend(loc='lower right')\n",
    "plt.grid()\n",
    "plt.tight_layout()\n",
    "plt.savefig('../reports/fig_ROC_comparison.png', bbox_inches='tight')\n",
    "plt.show()"
   ]
  },
  {
   "cell_type": "markdown",
   "id": "d4e1da04",
   "metadata": {},
   "source": [
    "# Model Comparison: Random Forest vs. SVC (Undersampling Strategy)\n",
    "\n",
    "In this classification project, we evaluated two configurations of the Random Forest model to address the class imbalance problem:\n",
    "\n",
    "Baseline Random Forest: trained on the original data without any specific adjustment for class imbalance.\n",
    "\n",
    "Balanced Random Forest: same model, but with class_weight='balanced' to compensate for the imbalance.\n",
    "\n",
    "# Key Findings\n",
    "Both models achieved solid performance in terms of accuracy, F1-score, and AUC-ROC.\n",
    "\n",
    "The Balanced Random Forest presented a slightly higher F1-score and AUC-ROC, indicating a better balance between precision and recall and a stronger discriminatory capacity.\n",
    "\n",
    "Using class_weight='balanced' is a simple yet effective technique for handling imbalance without requiring data resampling, which keeps the original dataset intact.\n",
    "\n",
    "Both models are interpretable through the .feature_importances_ attribute, which is useful for explaining the results to stakeholders.\n",
    "\n",
    "# Conclusion\n",
    "Considering the metrics and practical advantages, the Balanced Random Forest model is the preferred choice for the following reasons:\n",
    "\n",
    "- Superior performance in F1-score and AUC-ROC\n",
    "\n",
    "- Model interpretability, supporting transparency in decision-making\n",
    "\n",
    "- No need for resampling, preserving the dataset’s integrity\n",
    "\n",
    "- Efficient training time and ease of deployment\n",
    "\n",
    "Thus, the balanced model is more suitable for both evaluation and potential real-world implementation.\n",
    "\n"
   ]
  },
  {
   "cell_type": "code",
   "execution_count": 19,
   "id": "40660aeb",
   "metadata": {},
   "outputs": [
    {
     "name": "stdout",
     "output_type": "stream",
     "text": [
      "Modelo salvo em: ..\\models\\random_forest_balanced.pkl\n"
     ]
    }
   ],
   "source": [
    "best_rf_balanced = RandomForestClassifier(\n",
    "    n_estimators=100,\n",
    "    min_samples_split=2,\n",
    "    min_samples_leaf=2,\n",
    "    max_depth=5,\n",
    "    class_weight='balanced',\n",
    "    random_state=42\n",
    ")\n",
    "\n",
    "# Treinando o modelo com os dados completos de treino\n",
    "best_rf_balanced.fit(X_train, y_train)\n",
    "\n",
    "# Caminho para salvar o modelo\n",
    "save_path = os.path.join(\"..\", \"models\", \"random_forest_balanced.pkl\")\n",
    "\n",
    "# Salvando com joblib\n",
    "joblib.dump(best_rf_balanced, save_path)\n",
    "\n",
    "print(f\"Modelo salvo em: {save_path}\")"
   ]
  }
 ],
 "metadata": {
  "kernelspec": {
   "display_name": "churn_portf1",
   "language": "python",
   "name": "python3"
  },
  "language_info": {
   "codemirror_mode": {
    "name": "ipython",
    "version": 3
   },
   "file_extension": ".py",
   "mimetype": "text/x-python",
   "name": "python",
   "nbconvert_exporter": "python",
   "pygments_lexer": "ipython3",
   "version": "3.12.7"
  }
 },
 "nbformat": 4,
 "nbformat_minor": 5
}
